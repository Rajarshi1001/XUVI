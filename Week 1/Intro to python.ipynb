{
 "cells": [
  {
   "cell_type": "markdown",
   "id": "473d5c20",
   "metadata": {},
   "source": [
    "# Python Introduction-Getting Started!"
   ]
  },
  {
   "cell_type": "markdown",
   "id": "c2a1043d",
   "metadata": {},
   "source": [
    "### 1. Basic Syntaxes and Printing output "
   ]
  },
  {
   "cell_type": "markdown",
   "id": "3c059256",
   "metadata": {},
   "source": [
    "Python is a general purpose programming language. As you will move on learning python you would find, its syntaxes are much similar to basic english language commands hence it is an easy to learn language."
   ]
  },
  {
   "cell_type": "code",
   "execution_count": null,
   "id": "247534ca",
   "metadata": {},
   "outputs": [],
   "source": [
    "print('Hey there, Welcome to Astronomy Club!') \n",
    "print(\"Summer Project 2022-23\")\n",
    "print('Welcome to \"Astronomy Club IITK!\"')\n",
    "print(\"We are your 'mentors'\")"
   ]
  },
  {
   "cell_type": "markdown",
   "id": "e9df0bea",
   "metadata": {},
   "source": [
    "This statement makes use of the built-in fucntion `print()` and a string surrounded by single quotes. Double quotes are also fine and shows same properties."
   ]
  },
  {
   "cell_type": "markdown",
   "id": "5c070576",
   "metadata": {},
   "source": [
    "What if we need to print ,say a verse(contains newlines)!, you will make use of either triple single quotes(`'''`) our triple double quotes(`\"\"\"`). "
   ]
  },
  {
   "cell_type": "code",
   "execution_count": null,
   "id": "eb5cc98f",
   "metadata": {},
   "outputs": [],
   "source": [
    "print(\"\"\"Who commands the sun not to shine,\n",
    "And sets a seal upon the stars;\n",
    "Who alone stretches out the heavens\n",
    "And tramples down the waves of the sea;\n",
    "Who makes the Bear, Orion and the Pleiades,\n",
    "And the chambers of the south\"\"\")"
   ]
  },
  {
   "cell_type": "markdown",
   "id": "0e5fc116",
   "metadata": {},
   "source": [
    "Here is a very interesting feature of python: Strings can be added or multiplied by just performing the elemental maths."
   ]
  },
  {
   "cell_type": "code",
   "execution_count": null,
   "id": "101e16c2",
   "metadata": {},
   "outputs": [],
   "source": [
    "'Welcome to '+'Project: '+'XUVI' "
   ]
  },
  {
   "cell_type": "code",
   "execution_count": null,
   "id": "30b100e7",
   "metadata": {},
   "outputs": [],
   "source": [
    "\"XUVI\"*4 #you can also use double quotes"
   ]
  },
  {
   "cell_type": "markdown",
   "id": "eea56e28",
   "metadata": {},
   "source": [
    "The sentence starting with `#` is used to add a comment and is ignored if present anywhere in the python code"
   ]
  },
  {
   "cell_type": "markdown",
   "id": "daa6ed42",
   "metadata": {},
   "source": [
    "### 2. Data Types, Operators and Slicing"
   ]
  },
  {
   "cell_type": "code",
   "execution_count": null,
   "id": "b7eb1bb6",
   "metadata": {},
   "outputs": [],
   "source": [
    "x=1\n",
    "y=5.3\n",
    "z=\"Hello\"\n",
    "print(type(x))\n",
    "print(type(y))\n",
    "print(type(z))\n"
   ]
  },
  {
   "cell_type": "markdown",
   "id": "3943b77b",
   "metadata": {},
   "source": [
    "In Python, the data type is set when you assign a value to a variable. As you see above we can get datatype of any object by using `type()` function.\n",
    "Below given are few more properties of datatype. Have a look at them."
   ]
  },
  {
   "cell_type": "code",
   "execution_count": null,
   "id": "aaea725b",
   "metadata": {},
   "outputs": [],
   "source": [
    "x = 35e3\n",
    "y = -334861\n",
    "z = -87.7e100\n",
    "print(type(x))\n",
    "print(type(y))\n",
    "print(type(z))\n",
    "\n",
    "a = 1    # int\n",
    "b = 2.8  # float\n",
    "c = 1j   # complex\n",
    "\n",
    "#convert from int to float:\n",
    "p = float(a)\n",
    "\n",
    "#convert from float to int:\n",
    "q = int(a)\n",
    "\n",
    "#convert from int to complex:\n",
    "r = complex(c)\n",
    "\n",
    "print(p)\n",
    "print(q)\n",
    "print(r)\n",
    "\n",
    "print(type(p))\n",
    "print(type(q))\n",
    "print(type(r))"
   ]
  },
  {
   "cell_type": "code",
   "execution_count": null,
   "id": "6b5ddf07",
   "metadata": {},
   "outputs": [],
   "source": [
    "#operators\n",
    "x=15\n",
    "y=9\n",
    "print(x+y) #addition\n",
    "print(x*y) #multiplication\n",
    "print(x/y) #division\n",
    "print(x//y) #Gives integer value after quotient after division\n",
    "print(x%y)  #Gives remainder\n",
    "print(4**3,7**-3.8) #exponential"
   ]
  },
  {
   "cell_type": "code",
   "execution_count": null,
   "id": "faf7e3eb",
   "metadata": {},
   "outputs": [],
   "source": [
    "x= \"Astronomy Club\"\n",
    "print(x[3:8])\n",
    "print(x[:8])\n",
    "print(x[3:])\n",
    "print(x[-8:-3]) #negative indices are used to print from backwards\n"
   ]
  },
  {
   "cell_type": "markdown",
   "id": "7e4f11e1",
   "metadata": {},
   "source": [
    "Above you see is an example of Slicing in Python. Observe the starting and ending indices required to print a slice of the string."
   ]
  },
  {
   "cell_type": "markdown",
   "id": "ab66d342",
   "metadata": {},
   "source": [
    "### 3. Lists and Tuples"
   ]
  },
  {
   "cell_type": "markdown",
   "id": "61b0c68b",
   "metadata": {},
   "source": [
    "Created using square brackets, lists are used to store multiple items in a single variable.\n",
    "Lists are one of 4 built-in data types in Python used to store collections of data, the other 3 are Tuple, Set, and Dictionary, all with different qualities and usage. "
   ]
  },
  {
   "cell_type": "code",
   "execution_count": null,
   "id": "1de2fc75",
   "metadata": {},
   "outputs": [],
   "source": [
    "your_list = ['ab', 'cd', 'ef', 'gh']\n",
    "my_list = ['xyz', 1, 3, 5, 7]\n",
    "print(my_list)"
   ]
  },
  {
   "cell_type": "code",
   "execution_count": null,
   "id": "b1d6c10f",
   "metadata": {},
   "outputs": [],
   "source": [
    "your_list[2]= 'kl'\n",
    "print(your_list)\n",
    "print(my_list[1:4]) #slicing can be done to obtain elements in a particular range\n",
    "my_list.append(1)   #append function adds the provided element to the end of collection\n",
    "print(my_list)\n",
    "del my_list[0]\n",
    "print(my_list)"
   ]
  },
  {
   "cell_type": "markdown",
   "id": "cdff0dd4",
   "metadata": {},
   "source": [
    "Note that List is **ordered**, i.e. every item has a definite order and **changeable**, i.e. we can change, add, and remove items in a list after it has been created."
   ]
  },
  {
   "cell_type": "markdown",
   "id": "8e8f6f2f",
   "metadata": {},
   "source": [
    "Written with round brackets, tuples are used to store multiple items in a single variable."
   ]
  },
  {
   "cell_type": "code",
   "execution_count": null,
   "id": "08486727",
   "metadata": {},
   "outputs": [],
   "source": [
    "my_tuple= (\"Sun\",\"Moon\",\"Earth\",\"Venus\",\"Mars\")\n",
    "your_tuple= ('9',56, 12)\n",
    "nested_tuple= (1,2,('a','b',1),\"star\")\n",
    "print(nested_tuple)\n",
    "print(your_tuple)\n",
    "print(my_tuple)"
   ]
  },
  {
   "cell_type": "code",
   "execution_count": null,
   "id": "3a02299f",
   "metadata": {},
   "outputs": [],
   "source": [
    "print(my_tuple[1:])\n",
    "print(my_tuple[:4])\n",
    "print(your_tuple[-3:-1])"
   ]
  },
  {
   "cell_type": "markdown",
   "id": "71de8f48",
   "metadata": {},
   "source": [
    "A very **important** part to note about tuple is that tuple is **ordered** but **unchangeable**. You will have to convert a tuple into list then only you can add/remove elements. Let's understand this through an example."
   ]
  },
  {
   "cell_type": "code",
   "execution_count": null,
   "id": "782d625b",
   "metadata": {},
   "outputs": [],
   "source": [
    "x = (\"X-ray\", \"UV\", \"Visible\")\n",
    "y = list(x)\n",
    "y.append(\"Infrared\")\n",
    "x = tuple(y)\n",
    "\n",
    "print(x)"
   ]
  },
  {
   "cell_type": "markdown",
   "id": "5aee9804",
   "metadata": {},
   "source": [
    "### 4. Sets and Dictionaries"
   ]
  },
  {
   "cell_type": "markdown",
   "id": "c5ec831c",
   "metadata": {},
   "source": [
    "A set is a collection which is unordered, unchangeable, and unindexed. Each item needs to be unique and closed inside curly `{}` brackets."
   ]
  },
  {
   "cell_type": "code",
   "execution_count": null,
   "id": "5113e2c6",
   "metadata": {},
   "outputs": [],
   "source": [
    "my_set={\"Planets\",\"Galaxy\",\"Constellation\",\"Asteroid\",5,98,True}\n",
    "print(my_set)"
   ]
  },
  {
   "cell_type": "code",
   "execution_count": null,
   "id": "e9f51f4a",
   "metadata": {},
   "outputs": [],
   "source": [
    "new_set={\"a\",\"b\",\"c\"}\n",
    "new_set.add(\"d\")\n",
    "print(new_set)\n",
    "other_set={\"apple\",\"banana\",\"orange\",\"blue\"}\n",
    "other_set.remove(\"blue\")\n",
    "print(other_set)"
   ]
  },
  {
   "cell_type": "markdown",
   "id": "d7281129",
   "metadata": {},
   "source": [
    "Note that we cannot change elements of set but we can add or remove extra elements."
   ]
  },
  {
   "cell_type": "markdown",
   "id": "b32300f1",
   "metadata": {},
   "source": [
    "You also have set-theoretic intersections(`&`) and union(`|`) operator."
   ]
  },
  {
   "cell_type": "code",
   "execution_count": null,
   "id": "5e501f99",
   "metadata": {},
   "outputs": [],
   "source": [
    "{'a','b','c','j','k','l'}&{'b','k'}"
   ]
  },
  {
   "cell_type": "code",
   "execution_count": null,
   "id": "864f5848",
   "metadata": {},
   "outputs": [],
   "source": [
    "{1,8,34,67}|{9,80}"
   ]
  },
  {
   "cell_type": "markdown",
   "id": "350cd37b",
   "metadata": {},
   "source": [
    "Sometimes, you want a collection that is like a list, but whose indices are strings or other Python values. That's a dictionary. Dictionaries are handy for any type of database-like operation, or for storing mappings from one set of values to another. You create a dictionary by enclosing a list of key-value pairs in curly braces."
   ]
  },
  {
   "cell_type": "code",
   "execution_count": null,
   "id": "436f69e0",
   "metadata": {},
   "outputs": [],
   "source": [
    "my_grb = {'name': 'GRB 130702A', 'redshift': 0.145, 'ra': (14, 29, 14.78), 'dec': (15, 46, 26.4)}\n",
    "my_grb"
   ]
  },
  {
   "cell_type": "markdown",
   "id": "30316562",
   "metadata": {},
   "source": [
    "You can index items in dictionaries with square braces `[]`, similar to tuples or lists:"
   ]
  },
  {
   "cell_type": "code",
   "execution_count": null,
   "id": "04fe93f8",
   "metadata": {},
   "outputs": [],
   "source": [
    "my_grb['dec']"
   ]
  },
  {
   "cell_type": "markdown",
   "id": "4cab0d10",
   "metadata": {},
   "source": [
    "You can also add and remove items from it"
   ]
  },
  {
   "cell_type": "code",
   "execution_count": null,
   "id": "d01fc307",
   "metadata": {},
   "outputs": [],
   "source": [
    "my_grb['url'] = 'http://gcn.gsfc.nasa.gov/other/130702A.gcn3'\n",
    "my_grb\n",
    "del my_grb['ra']\n",
    "my_grb"
   ]
  },
  {
   "cell_type": "markdown",
   "id": "c375512f",
   "metadata": {},
   "source": [
    "Dictionary keys can be any immutable kind of Python object: tuples, strings, integers, and floats are all fine. Values in a dictionary can be any Python value at all, including lists or other dictionaries:"
   ]
  },
  {
   "cell_type": "code",
   "execution_count": null,
   "id": "dfbd7883",
   "metadata": {},
   "outputs": [],
   "source": [
    "{\n",
    "    'foods': ['chicken', 'veggie burger', 'banana'],\n",
    "    'cheeses': {'muenster', 'gouda', 'camembert', 'mozarella'},\n",
    "    (5.5, 2): 42,\n",
    "    'plugh': 'bat'\n",
    "}"
   ]
  },
  {
   "cell_type": "markdown",
   "id": "c797f67e",
   "metadata": {},
   "source": [
    "### 5. Conditionals"
   ]
  },
  {
   "cell_type": "markdown",
   "id": "9bd960cd",
   "metadata": {},
   "source": [
    "Decision-making statements in programming languages decide the direction of the flow of program execution. \n",
    "In Python, if else elif statement is used for decision making. An important point to note is **indentation**.Conditionals and loops have blocks indicated with indentation, without which code won't compile and will show an error.Any number of spaces or tabs is fine, as long as you are consistent within a block. Common choices include four spaces, two spaces, or a tab."
   ]
  },
  {
   "cell_type": "code",
   "execution_count": null,
   "id": "228535e4",
   "metadata": {},
   "outputs": [],
   "source": [
    "i = 20\n",
    "if i < 15:\n",
    "    print(\"i is smaller than 15\")\n",
    "    print(\"i'm in if Block\")\n",
    "elif i == 20:\n",
    "    print(\"i'm in the 'elif' block\")\n",
    "    print(\"i'm equal to 20\")\n",
    "else:\n",
    "    print(\"i is greater than 15\")\n",
    "    print(\"i'm in else Block\")\n",
    "print(\"i'm not in if and not in else Block\")"
   ]
  },
  {
   "cell_type": "markdown",
   "id": "2d873d62",
   "metadata": {},
   "source": [
    "You can combine comparison operators with the boolean and, or, and not operators:"
   ]
  },
  {
   "cell_type": "code",
   "execution_count": null,
   "id": "d363765a",
   "metadata": {},
   "outputs": [],
   "source": [
    "if i< 25 or i>15:\n",
    "    print(\"yahoo!\")\n",
    "if i<25 and i%2==0:\n",
    "    print(\"i is less than 25 and is an even number\")\n",
    "if not i == 19:\n",
    "    print(\"i is not 19\")"
   ]
  },
  {
   "cell_type": "markdown",
   "id": "76cd2e98",
   "metadata": {},
   "source": [
    "#### The `None` Object"
   ]
  },
  {
   "cell_type": "markdown",
   "id": "4ecdee43",
   "metadata": {},
   "source": [
    "Sometimes you need to represent the absence of a value, for instance, if you have a gap in a dataset. You might be tempted to use some special value like -1 or 99 for this purpose, but **don't**! Use the built-in object `None`."
   ]
  },
  {
   "cell_type": "markdown",
   "id": "ad91aeb8",
   "metadata": {},
   "source": [
    "The comparison operator `is` tests whether two Python values are not only equal, but represent the same object. Since there is only one None object, the is operator is particularly useful for detecting `None`.And so likewise there is an `is not` operator."
   ]
  },
  {
   "cell_type": "code",
   "execution_count": null,
   "id": "3557a70e",
   "metadata": {},
   "outputs": [],
   "source": [
    "food = None\n",
    "\n",
    "if food is None:\n",
    "    print('No, thanks!')\n",
    "else:\n",
    "    print('Here is your', food)\n",
    "if food is not None:\n",
    "    print('Yum!')"
   ]
  },
  {
   "cell_type": "markdown",
   "id": "1aaf55ff",
   "metadata": {},
   "source": [
    "The `in` and `not in` operators are handy for testing for membership in a string, set, or dictionary:"
   ]
  },
  {
   "cell_type": "code",
   "execution_count": null,
   "id": "733a0ddc",
   "metadata": {},
   "outputs": [],
   "source": [
    "if 3 in {1, 2, 3, 4, 5}:\n",
    "    print('indeed it is')\n",
    "if 'i' not in 'team':\n",
    "    print('there is no \"i\" in \"team\"')"
   ]
  },
  {
   "cell_type": "markdown",
   "id": "a2e2a3eb",
   "metadata": {},
   "source": [
    "When referring to a dictionary, the in operator tests if the item is among the **keys** of the dictionary."
   ]
  },
  {
   "cell_type": "code",
   "execution_count": null,
   "id": "5b17e88b",
   "metadata": {},
   "outputs": [],
   "source": [
    "d = {'foo': 3, 'bar': 5, 'bat': 9}\n",
    "if 'foo' in d:\n",
    "    print('the key \"foo\" is in the dictionary')"
   ]
  },
  {
   "cell_type": "markdown",
   "id": "ca0923dc",
   "metadata": {},
   "source": [
    "### 6. The `For` and `While` Loops:"
   ]
  },
  {
   "cell_type": "markdown",
   "id": "a694af5c",
   "metadata": {},
   "source": [
    "A `for` loop is used for iterating over a sequence (that is either a list, a tuple, a dictionary, a set, or a string).With the for loop we can execute a set of statements, once for each item in a list, tuple, set etc."
   ]
  },
  {
   "cell_type": "code",
   "execution_count": null,
   "id": "2f68437c",
   "metadata": {},
   "outputs": [],
   "source": [
    "planets=[\"Mercury\",\"Venus\",\"Earth\",\"Mars\"]\n",
    "for i in planets:  #for loop doesn't require an indexing variable to set beforehand\n",
    "    print(i,\"is a planet in solar system\")"
   ]
  },
  {
   "cell_type": "markdown",
   "id": "7888568b",
   "metadata": {},
   "source": [
    "#### The `Break` and `Continue` Statement \n",
    "Just like in C, python also has break and continue statements.With the `break` statement we can stop the loop before it has looped through all the items. With the `continue` statement we can stop the current iteration of the loop, and continue with the next:"
   ]
  },
  {
   "cell_type": "code",
   "execution_count": null,
   "id": "5d03c00a",
   "metadata": {},
   "outputs": [],
   "source": [
    "planets = [\"Jupiter\", \"Saturn\", \"Uranus\",\"Neptune\"]\n",
    "for i in planets:\n",
    "    print(i)\n",
    "    if i == \"Uranus\":\n",
    "        break              \n",
    "#Observe all the indented blocks"
   ]
  },
  {
   "cell_type": "code",
   "execution_count": null,
   "id": "52832565",
   "metadata": {},
   "outputs": [],
   "source": [
    "planets = [\"Earth\", \"Mars\", \"Saturn\"]\n",
    "for i in planets:\n",
    "    if i == \"Mars\":\n",
    "        continue\n",
    "    print(i)"
   ]
  },
  {
   "cell_type": "markdown",
   "id": "2f784225",
   "metadata": {},
   "source": [
    "To loop through a set of code a specified number of times, we can use the `range()` function."
   ]
  },
  {
   "cell_type": "code",
   "execution_count": null,
   "id": "2ab7a5f9",
   "metadata": {},
   "outputs": [],
   "source": [
    "for i in range(-2, 2):\n",
    "    print(i**2)"
   ]
  },
  {
   "cell_type": "markdown",
   "id": "0f16cfe7",
   "metadata": {},
   "source": [
    "The **while** loop requires relevant variables to be ready, in below example we need to define an indexing variable, i, which we set to 1:"
   ]
  },
  {
   "cell_type": "code",
   "execution_count": null,
   "id": "7cdf77f0",
   "metadata": {},
   "outputs": [],
   "source": [
    "i = 1\n",
    "while i < 6:\n",
    "    print(i%2)\n",
    "    i += 1"
   ]
  },
  {
   "cell_type": "markdown",
   "id": "7d0ad273",
   "metadata": {},
   "source": [
    "### 7. Python Functions"
   ]
  },
  {
   "cell_type": "markdown",
   "id": "bf44a75d",
   "metadata": {},
   "source": [
    "In Python a function is defined using the `def` keyword. A function may either have or not have a ``return`` statement to send back a return value."
   ]
  },
  {
   "cell_type": "code",
   "execution_count": null,
   "id": "8fedece9",
   "metadata": {},
   "outputs": [],
   "source": [
    "def my_function():\n",
    "    print(\"Hello! Astronomy Club\")\n",
    "\n",
    "my_function()"
   ]
  },
  {
   "cell_type": "code",
   "execution_count": null,
   "id": "3c603e9d",
   "metadata": {},
   "outputs": [],
   "source": [
    "def square(n):\n",
    "    return n * n\n",
    "\n",
    "a = square(3)\n",
    "print(a)\n"
   ]
  },
  {
   "cell_type": "markdown",
   "id": "716f4ffb",
   "metadata": {},
   "source": [
    "If you pass a mutable value such as a list to a function, then **the function may modify that value**. For example, you might implement the Fibonacci sequence like this:"
   ]
  },
  {
   "cell_type": "code",
   "execution_count": null,
   "id": "da35ff24",
   "metadata": {},
   "outputs": [],
   "source": [
    "def fibonacci(seed, n):\n",
    "    while len(seed) < n:\n",
    "        seed.append(seed[-1] + seed[-2])\n",
    "    # Note: no return statement\n",
    "\n",
    "seed = [1, 1]\n",
    "fibonacci(seed, 10)\n",
    "print(seed)\n"
   ]
  },
  {
   "cell_type": "markdown",
   "id": "d7b7ae9a",
   "metadata": {},
   "source": [
    "If a function has a large number of arguments, it may be easier to read if you pass the arguments by keyword, as in:"
   ]
  },
  {
   "cell_type": "code",
   "execution_count": null,
   "id": "cee9767b",
   "metadata": {},
   "outputs": [],
   "source": [
    "seq = [1, 1]\n",
    "fibonacci(seed=seq, n=4)"
   ]
  },
  {
   "cell_type": "markdown",
   "id": "e86d7100",
   "metadata": {},
   "source": [
    "Python also accepts function recursion, which means a defined function can call itself."
   ]
  },
  {
   "cell_type": "code",
   "execution_count": null,
   "id": "50ff5b8c",
   "metadata": {},
   "outputs": [],
   "source": [
    "def tri_recursion(k):\n",
    "    if(k > 0):\n",
    "        result = k + tri_recursion(k - 1)\n",
    "        print(result)\n",
    "    else:\n",
    "        result = 0\n",
    "    return result\n",
    "\n",
    "print(\"\\n\\nRecursion Example Results\")\n",
    "tri_recursion(6)"
   ]
  },
  {
   "cell_type": "markdown",
   "id": "7db244da",
   "metadata": {},
   "source": [
    "Finally, you are ready to move towards learning advanced libraries of python :)"
   ]
  }
 ],
 "metadata": {
  "interpreter": {
   "hash": "0b238050c0fbec23e22d1482b8d0120dfc8b9361b5e44816b39e3a927c92602a"
  },
  "kernelspec": {
   "display_name": "Python 3.8.10 64-bit (windows store)",
   "language": "python",
   "name": "python3"
  },
  "language_info": {
   "codemirror_mode": {
    "name": "ipython",
    "version": 3
   },
   "file_extension": ".py",
   "mimetype": "text/x-python",
   "name": "python",
   "nbconvert_exporter": "python",
   "pygments_lexer": "ipython3",
   "version": "3.8.10"
  }
 },
 "nbformat": 4,
 "nbformat_minor": 5
}
