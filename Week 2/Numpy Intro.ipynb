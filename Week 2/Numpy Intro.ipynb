{
 "cells": [
  {
   "cell_type": "markdown",
   "metadata": {},
   "source": [
    "### Numpy\n",
    "\n",
    "NumPy is a library for the Python programming language, adding support for large, multi-dimensional arrays and matrices, along with a large collection of high-level mathematical functions to operate on these arrays. NumPy offers comprehensive mathematical functions, random number generators, linear algebra routines, Fourier transforms, and more.\n",
    "\n",
    "In this notebook I will be providing a brief introduction to Numpy which is essential for handling astronomical data. A brief overview of some of the functions would be enough to get started. It is also normal to ask why is numpy preferred over normal python libraries, you may refer to this blogpost [Why is numy so fast?](https://medium.com/swlh/numpy-why-is-it-so-fast-8087f4da4d79).\n",
    "\n",
    "<p float=\"left\">\n",
    "<img src=\"http://www.quickmeme.com/img/89/8958061ff315122471f48ed03bc2ba1e18c86f8d31cc3493af7475a8b7776919.jpg\" width=\"500\"/> \n",
    "<img src=\"https://raw.githubusercontent.com/astroclubiitk/Computational-Astrophysics-2021/main/Week-1/assets/meme3.jpg\" width=\"300\" />\n",
    "</p>"
   ]
  },
  {
   "cell_type": "code",
   "execution_count": 37,
   "metadata": {},
   "outputs": [],
   "source": [
    "## Importin the necessary libraries\n",
    "\n",
    "import numpy as np\n",
    "import matplotlib.pyplot as plt"
   ]
  },
  {
   "cell_type": "markdown",
   "metadata": {},
   "source": [
    "## Numpy Arrays\n",
    "\n",
    "A **numpy array** is a grid of values, all of the same type, and is indexed by a tuple of nonnegative integers. The number of dimensions is the rank of the array; the shape of an array is a tuple of integers giving the size of the array along each dimension. We can initialize numpy arrays from nested Python lists, and access elements using square brackets:\n",
    "\n",
    "Numpy also provides special functions to create matrices like **diagonal matrices**, **identity matrices**, **random numbers**"
   ]
  },
  {
   "cell_type": "code",
   "execution_count": 8,
   "metadata": {},
   "outputs": [
    {
     "name": "stdout",
     "output_type": "stream",
     "text": [
      "<class 'numpy.ndarray'>\n",
      "(3,)\n",
      "34 22 44\n",
      "[ 5 22 44]\n",
      "(2, 3)\n",
      "12 21 422\n"
     ]
    }
   ],
   "source": [
    "import numpy as np\n",
    "\n",
    "a = np.array([34,22,44])   # Create a rank 1 array\n",
    "print(type(a))            # Prints \"<class 'numpy.ndarray'>\"\n",
    "print(a.shape)            # Prints \"(3,)\"\n",
    "print(a[0], a[1], a[2])   # Prints \"1 2 3\"\n",
    "a[0] = 5                  # Change an element of the array\n",
    "print(a)                  # Prints \"[5, 2, 3]\"\n",
    "\n",
    "b = np.array([[12,21,34],[422,52,612]])    # Create a rank 2 array\n",
    "print(b.shape)                     # Prints \"(2, 3)\"\n",
    "print(b[0, 0], b[0, 1], b[1, 0])   # Prints \"1 2 4\""
   ]
  },
  {
   "cell_type": "code",
   "execution_count": 10,
   "metadata": {},
   "outputs": [
    {
     "name": "stdout",
     "output_type": "stream",
     "text": [
      "[[0. 0. 0.]\n",
      " [0. 0. 0.]\n",
      " [0. 0. 0.]]\n",
      "[[1. 1. 1. 1. 1. 1. 1. 1. 1. 1.]]\n",
      "[[69 69]\n",
      " [69 69]]\n",
      "[[1. 0. 0. 0. 0.]\n",
      " [0. 1. 0. 0. 0.]\n",
      " [0. 0. 1. 0. 0.]\n",
      " [0. 0. 0. 1. 0.]\n",
      " [0. 0. 0. 0. 1.]]\n",
      "[[0.69252061 0.20873897]\n",
      " [0.57835707 0.923004  ]]\n"
     ]
    }
   ],
   "source": [
    "a = np.zeros((3,3))   # Create an array of all zeros\n",
    "print(a)              # Prints \"[[0. 0. 0.]\n",
    "                      #         [0. 0. 0.]\n",
    "                      #          [0. 0. 0.]]\"\n",
    "b = np.ones((1,10))    # Create an array of all ones\n",
    "print(b)              # Prints \"[[ 1.  1.  1.  1.  1.  1.  1.  1.  1.  1.]]\"\n",
    "c = np.full((2,2), 69)  # Create a constant array\n",
    "print(c)               # Prints \"[[ 69.  69.]\n",
    "                       #          [ 69.  69.]]\"\n",
    "d = np.eye(5)         # Create a 2x2 identity matrix\n",
    "print(d)              # Prints \"[[1. 0. 0. 0. 0.]\n",
    "                      #         [0. 1. 0. 0. 0.]\n",
    "                      #         [0. 0. 1. 0. 0.]\n",
    "                      #         [0. 0. 0. 1. 0.]\n",
    "                      #         [0. 0. 0. 0. 1.]]\"\n",
    "e = np.random.random((2,2))  # Create an array filled with random values\n",
    "print(e)                     # Might print \"[[ 0.91940167  0.08143941]\n",
    "                             #               [ 0.68744134  0.87236687]]\""
   ]
  },
  {
   "cell_type": "markdown",
   "metadata": {},
   "source": [
    "### Array Indexing\n",
    "\n",
    "Numpy arrays mostly follows **zero** based indexing. Similar to Python lists, numpy arrays can be sliced. Since arrays may be multidimensional, you must specify a slice for each dimension of the array:\n"
   ]
  },
  {
   "cell_type": "code",
   "execution_count": 15,
   "metadata": {},
   "outputs": [
    {
     "name": "stdout",
     "output_type": "stream",
     "text": [
      "11\n",
      "[ 1  6  7 11]\n",
      "(4, 3)\n",
      "12\n"
     ]
    }
   ],
   "source": [
    "# Create a new array from which we will select elements\n",
    "a = np.array([[1,2,3], [4,5,6], [7,8,9], [10, 11, 12]])\n",
    "## Accessing the 4th row and the 2nd column in the given 4x3 matrix\n",
    "print(a[3][1])\n",
    "# Create an array of indices\n",
    "b = np.array([0, 2, 0, 1])\n",
    "# Select one element from each row of a using the indices in b\n",
    "print(a[np.arange(4), b])  # Prints \"[ 1  6  7 11]\"\n",
    "\n",
    "## printing the shape and size of a Numpy Array\n",
    "print(a.shape) # returns the order of the matrix in this case = 4x3\n",
    "print(a.size) ## calculates the number of elements = rows * columns"
   ]
  },
  {
   "cell_type": "code",
   "execution_count": 18,
   "metadata": {},
   "outputs": [
    {
     "name": "stdout",
     "output_type": "stream",
     "text": [
      "int32\n",
      "float64\n"
     ]
    }
   ],
   "source": [
    "## Printing the datatype of the array elements\n",
    "\n",
    "x = np.array([134, 2222])   # Let numpy choose the datatype\n",
    "print(x.dtype)         # Prints \"int64\"\n",
    "x = np.array([2341.0, np.pi])   # Let numpy choose the datatype\n",
    "print(x.dtype)    "
   ]
  },
  {
   "cell_type": "markdown",
   "metadata": {},
   "source": [
    "## Array operations \n",
    "\n",
    "In the cell below I will be demonstrating normal artithmetic operations on matrices and calculating the dot products between matrices."
   ]
  },
  {
   "cell_type": "code",
   "execution_count": 20,
   "metadata": {},
   "outputs": [
    {
     "name": "stdout",
     "output_type": "stream",
     "text": [
      "[[ 6.  8.]\n",
      " [10. 12.]]\n",
      "[[ 6.  8.]\n",
      " [10. 12.]]\n",
      "[[-4. -4.]\n",
      " [-4. -4.]]\n",
      "[[-4. -4.]\n",
      " [-4. -4.]]\n",
      "[[ 5. 12.]\n",
      " [21. 32.]]\n",
      "[[ 5. 12.]\n",
      " [21. 32.]]\n",
      "[[0.2        0.33333333]\n",
      " [0.42857143 0.5       ]]\n",
      "[[0.2        0.33333333]\n",
      " [0.42857143 0.5       ]]\n",
      "[[1.         1.41421356]\n",
      " [1.73205081 2.        ]]\n",
      "219\n",
      "219\n",
      "[29. 67.]\n",
      "[29. 67.]\n",
      "[[19. 22.]\n",
      " [43. 50.]]\n",
      "[[19. 22.]\n",
      " [43. 50.]]\n",
      "[[1. 2.]\n",
      " [3. 4.]]\n",
      "[[1. 3.]\n",
      " [2. 4.]]\n"
     ]
    }
   ],
   "source": [
    "x = np.array([[1,2],[3,4]], dtype=np.float64)\n",
    "y = np.array([[5,6],[7,8]], dtype=np.float64)\n",
    "# Elementwise sum; both produce the array\n",
    "# [[ 6.0  8.0]\n",
    "#  [10.0 12.0]]\n",
    "print(x + y)\n",
    "print(np.add(x, y))\n",
    "# Elementwise difference; both produce the array\n",
    "# [[-4.0 -4.0]\n",
    "#  [-4.0 -4.0]]\n",
    "print(x - y)\n",
    "print(np.subtract(x, y))\n",
    "# Elementwise product; both produce the array\n",
    "# [[ 5.0 12.0]\n",
    "#  [21.0 32.0]]\n",
    "print(x * y)\n",
    "print(np.multiply(x, y))\n",
    "# Elementwise division; both produce the array\n",
    "# [[ 0.2         0.33333333]\n",
    "#  [ 0.42857143  0.5       ]]\n",
    "print(x / y)\n",
    "print(np.divide(x, y))\n",
    "# Elementwise square root; produces the array\n",
    "# [[ 1.          1.41421356]\n",
    "#  [ 1.73205081  2.        ]]\n",
    "print(np.sqrt(x))\n",
    "v = np.array([9,10])\n",
    "w = np.array([11, 12])\n",
    "\n",
    "# Inner product of vectors; both produce 219\n",
    "print(v.dot(w))\n",
    "print(np.dot(v, w))\n",
    "\n",
    "# Matrix / vector product; both produce the rank 1 array [29 67]\n",
    "print(x.dot(v))\n",
    "print(np.dot(x, v))\n",
    "\n",
    "# Matrix / matrix product; both produce the rank 2 array\n",
    "# [[19 22]\n",
    "#  [43 50]]\n",
    "print(x.dot(y))\n",
    "print(np.dot(x, y))\n",
    "\n",
    "print(x)    # Prints \"[[1 2]\n",
    "            #          [3 4]]\"\n",
    "## calculating the tanspose of a 2x2 matrix\n",
    "print(x.T)  # Prints \"[[1 3]\n",
    "            #          [2 4]]\"\n"
   ]
  },
  {
   "cell_type": "markdown",
   "metadata": {},
   "source": [
    "## Mathematical functions \n",
    "\n",
    "Numpy provides a great deal of functions to make life much simpler like **Trignometric functions**, **Logarithmic functions**, **Hyperbolic functions**, working with different **Probability Dsitributions**, handling **Complex Numbers**, **Convolutions** of 1D sequences and other special functions. In order to get an idea about them, you can refer to this documentation which contains all the functions and their syntaxes [Mathematical Functions in NumPy](https://numpy.org/doc/stable/reference/routines.math.html)"
   ]
  },
  {
   "cell_type": "code",
   "execution_count": 36,
   "metadata": {},
   "outputs": [
    {
     "name": "stdout",
     "output_type": "stream",
     "text": [
      "[[-- 2 --]\n",
      " [4 5 --]\n",
      " [7 -- 9]]\n",
      "[-- 2 -- 4 5 -- 7 -- 9]\n",
      "Indices of elements <4\n",
      "(array([0, 0, 0, 1, 1, 1], dtype=int64), array([0, 1, 2, 0, 1, 2], dtype=int64))\n",
      "Elements which are <4\n",
      "[10 20 30 40 50 60]\n"
     ]
    }
   ],
   "source": [
    "## declaring a masked array in Numpy. The elements will be masked at the positions where True is mentioned in the mask array\n",
    "x = np.ma.array([[1,2,3],[4,5,6],[7,8,9]], mask=[[True, False, True],[False, False, True],[False, True, False]])\n",
    "print(x)\n",
    "## ravel() method converts/flattens a multidimensional array in numpy\n",
    "flattnedarr = np.ravel(x)\n",
    "print(flattnedarr)\n",
    "## where() method returns elements from an array based on a condition\n",
    "a = np.array([[10, 20, 30], [40, 50, 60]])\n",
    "print ('Indices of elements <4')\n",
    "b = np.where(a<70)\n",
    "print(b)\n",
    "print(\"Elements which are <4\")\n",
    "print(a[b])"
   ]
  },
  {
   "cell_type": "markdown",
   "metadata": {},
   "source": [
    "## Fourier Transform \n",
    "\n",
    "Fourier analysis is fundamentally a method for expressing a function as a sum of periodic components, and for recovering the function from those components. When both the function and its Fourier transform are replaced with discretized counterparts, it is called the discrete Fourier transform (DFT). The DFT has become a mainstay of numerical computing in part because of a very fast algorithm for computing it, called the Fast Fourier Transform (FFT).\n",
    "\n",
    "FFT (Fast Fourier Transform) refers to a way the discrete Fourier Transform (DFT) can be calculated efficiently, by using symmetries in the calculated terms. The symmetry is highest when n is a power of 2, and the transform is therefore most efficient for these sizes.\n",
    "\n",
    "In order to understand FFT better, you can refer to this video [Fast Fourier Transform](https://www.youtube.com/watch?v=h7apO7q16V0)\n",
    "\n",
    "The fft function available under the **numpy.fft** module computes the one-dimensional n-point discrete Fourier Transform (DFT) with the efficient Fast Fourier Transform (FFT) algorithm [CT]."
   ]
  },
  {
   "cell_type": "code",
   "execution_count": 30,
   "metadata": {},
   "outputs": [
    {
     "data": {
      "text/plain": [
       "[<matplotlib.lines.Line2D at 0x1da578665e0>]"
      ]
     },
     "execution_count": 30,
     "metadata": {},
     "output_type": "execute_result"
    },
    {
     "data": {
      "image/png": "[encoded data removed]",
      "text/plain": [
       "<Figure size 432x288 with 1 Axes>"
      ]
     },
     "metadata": {
      "needs_background": "light"
     },
     "output_type": "display_data"
    }
   ],
   "source": [
    "import matplotlib.pyplot as plt\n",
    "t = np.arange(256)\n",
    "sp = np.fft.fft(np.sin(t))\n",
    "freq = np.fft.fftfreq(t.shape[-1])\n",
    "plt.plot(freq, sp.real)"
   ]
  },
  {
   "cell_type": "code",
   "execution_count": 33,
   "metadata": {},
   "outputs": [
    {
     "data": {
      "text/plain": [
       "[<matplotlib.lines.Line2D at 0x1da578d4e20>]"
      ]
     },
     "execution_count": 33,
     "metadata": {},
     "output_type": "execute_result"
    },
    {
     "data": {
      "image/png": "[encoded data removed]",
      "text/plain": [
       "<Figure size 432x288 with 1 Axes>"
      ]
     },
     "metadata": {
      "needs_background": "light"
     },
     "output_type": "display_data"
    }
   ],
   "source": [
    "## Demonstrating the Inverse Fourier transform\n",
    "\n",
    "import matplotlib.pyplot as plt\n",
    "t = np.arange(400)\n",
    "n = np.zeros((400,), dtype=complex)\n",
    "n[40:60] = np.exp(1j*np.random.uniform(0, 2*np.pi, (20,)))\n",
    "s = np.fft.ifft(n)\n",
    "plt.plot(t, s.real)"
   ]
  },
  {
   "cell_type": "markdown",
   "metadata": {},
   "source": [
    "This notebook would serve as a good point to get started with the extremely powerful python library. This is widely used in various applications of Machine learning, handling astronomical data, FITs file, data analysis etc. To develop your grasp in NumPy, there could not be anything better than [100 NumPy exercises](https://www.kaggle.com/utsav15/100-numpy-exercises). This kaggle link provides you with the answers. you may go through them and read, but the BEST approach is to write that down yourself.\n",
    "\n",
    "In case you find difficulties, the official documentation is always present [Numpy Doc](https://numpy.org/doc/stable/)\n",
    "\n",
    "Peace ✌️✌️"
   ]
  }
 ],
 "metadata": {
  "interpreter": {
   "hash": "81794d4967e6c3204c66dcd87b604927b115b27c00565d3d43f05ba2f3a2cb0d"
  },
  "kernelspec": {
   "display_name": "Python 3.9.5 64-bit",
   "language": "python",
   "name": "python3"
  },
  "language_info": {
   "codemirror_mode": {
    "name": "ipython",
    "version": 3
   },
   "file_extension": ".py",
   "mimetype": "text/x-python",
   "name": "python",
   "nbconvert_exporter": "python",
   "pygments_lexer": "ipython3",
   "version": "3.9.5"
  },
  "orig_nbformat": 4
 },
 "nbformat": 4,
 "nbformat_minor": 2
}
