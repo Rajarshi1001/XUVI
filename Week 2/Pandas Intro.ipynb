{
 "cells": [
  {
   "cell_type": "markdown",
   "metadata": {},
   "source": [
    "## Pandas \n",
    "\n",
    "Pandas is an open-source data analysis software which simplifies the data preprocessing steps and the feature engineering workflow which forms an intergral part of any task that involves working with data. In particular, it offers data structures and operations for manipulating numerical tables and time series. It can support a large variety of file formats including csv, json, xml, jpg etc. It also contains several inbuilt numerical and statistical methods.\n",
    "\n",
    "<img src=\"https://miro.medium.com/max/1400/1*JD6TuQ01_JhWEppGxKimLg.jpeg\" width=\"400\" height=\"300\"/>"
   ]
  },
  {
   "cell_type": "code",
   "execution_count": 18,
   "metadata": {},
   "outputs": [
    {
     "data": {
      "text/html": [
       "<div>\n",
       "<style scoped>\n",
       "    .dataframe tbody tr th:only-of-type {\n",
       "        vertical-align: middle;\n",
       "    }\n",
       "\n",
       "    .dataframe tbody tr th {\n",
       "        vertical-align: top;\n",
       "    }\n",
       "\n",
       "    .dataframe thead th {\n",
       "        text-align: right;\n",
       "    }\n",
       "</style>\n",
       "<table border=\"1\" class=\"dataframe\">\n",
       "  <thead>\n",
       "    <tr style=\"text-align: right;\">\n",
       "      <th></th>\n",
       "      <th>Index</th>\n",
       "      <th>Height(Inches)\"</th>\n",
       "      <th>\"Weight(Pounds)\"</th>\n",
       "    </tr>\n",
       "  </thead>\n",
       "  <tbody>\n",
       "    <tr>\n",
       "      <th>0</th>\n",
       "      <td>1</td>\n",
       "      <td>65.78</td>\n",
       "      <td>112.99</td>\n",
       "    </tr>\n",
       "    <tr>\n",
       "      <th>1</th>\n",
       "      <td>2</td>\n",
       "      <td>71.52</td>\n",
       "      <td>136.49</td>\n",
       "    </tr>\n",
       "    <tr>\n",
       "      <th>2</th>\n",
       "      <td>3</td>\n",
       "      <td>69.40</td>\n",
       "      <td>153.03</td>\n",
       "    </tr>\n",
       "    <tr>\n",
       "      <th>3</th>\n",
       "      <td>4</td>\n",
       "      <td>68.22</td>\n",
       "      <td>142.34</td>\n",
       "    </tr>\n",
       "    <tr>\n",
       "      <th>4</th>\n",
       "      <td>5</td>\n",
       "      <td>67.79</td>\n",
       "      <td>144.30</td>\n",
       "    </tr>\n",
       "  </tbody>\n",
       "</table>\n",
       "</div>"
      ],
      "text/plain": [
       "   Index   Height(Inches)\"   \"Weight(Pounds)\"\n",
       "0      1             65.78             112.99\n",
       "1      2             71.52             136.49\n",
       "2      3             69.40             153.03\n",
       "3      4             68.22             142.34\n",
       "4      5             67.79             144.30"
      ]
     },
     "execution_count": 18,
     "metadata": {},
     "output_type": "execute_result"
    }
   ],
   "source": [
    "## reading a sample csv file\n",
    "import pandas as pd\n",
    "import matplotlib.pyplot as plt\n",
    "import numpy as np\n",
    "\n",
    "data = pd.read_csv(\"hw_200.csv\")\n",
    "data.head(5) # displays the first 5 rowa of the corresponding dataframe"
   ]
  },
  {
   "cell_type": "code",
   "execution_count": 25,
   "metadata": {},
   "outputs": [
    {
     "name": "stdout",
     "output_type": "stream",
     "text": [
      "3\n",
      "Index(['Index', ' Height(Inches)\"', ' \"Weight(Pounds)\"'], dtype='object')\n"
     ]
    },
    {
     "data": {
      "text/plain": [
       "0        1\n",
       "1        2\n",
       "2        3\n",
       "3        4\n",
       "4        5\n",
       "      ... \n",
       "195    196\n",
       "196    197\n",
       "197    198\n",
       "198    199\n",
       "199    200\n",
       "Name: Index, Length: 200, dtype: int64"
      ]
     },
     "execution_count": 25,
     "metadata": {},
     "output_type": "execute_result"
    }
   ],
   "source": [
    "# Extracting the number of columns in the given dataframe\n",
    "print(len(data.columns))\n",
    "# Extracting the columns of dataframe\n",
    "print(data.columns)\n",
    "# displayung entities present in a single column by using trhe column name as a key\n",
    "data[\"Index\"]"
   ]
  },
  {
   "cell_type": "markdown",
   "metadata": {},
   "source": [
    "In this section we will be going through some of the **common** methods used in data exploration and analysis. **Pandas** \n",
    "provides several inbuilt methods to handle and perform operations on the dataframe like counting the number of **missing** values,\n",
    "**immutation**(replacing the missing values by either their mean, median etc), **dataframe slicing**, **dataframe statictics**, dtypes of the different columns present in the dataframe etc. We will be going through some of these methods ,in case you feel to have a good grasp of pandas methods and explore them, the `pandas documentation` is extremely helpful and properly documented.\n",
    "\n",
    "The link to the pandas documentation : [Pandas Doc](https://pandas.pydata.org/docs/getting_started/index.html#getting-started)"
   ]
  },
  {
   "cell_type": "code",
   "execution_count": 16,
   "metadata": {},
   "outputs": [
    {
     "name": "stdout",
     "output_type": "stream",
     "text": [
      "    John    Doe  120 jefferson st.  Riverside     NJ   8075\n",
      "0  False  False              False      False  False  False\n",
      "1  False  False              False      False  False  False\n",
      "2  False  False              False      False  False  False\n",
      "4  False  False              False      False  False  False\n",
      "Empty DataFrame\n",
      "Columns: [John, Doe, 120 jefferson st., Riverside,  NJ, 8075]\n",
      "Index: []\n",
      "<class 'pandas.core.frame.DataFrame'>\n",
      "Int64Index: 4 entries, 0 to 4\n",
      "Data columns (total 6 columns):\n",
      " #   Column             Non-Null Count  Dtype \n",
      "---  ------             --------------  ----- \n",
      " 0   John               4 non-null      object\n",
      " 1   Doe                4 non-null      object\n",
      " 2   120 jefferson st.  4 non-null      object\n",
      " 3   Riverside          4 non-null      object\n",
      " 4    NJ                4 non-null      object\n",
      " 5   8075               4 non-null      int64 \n",
      "dtypes: int64(1), object(5)\n",
      "memory usage: 224.0+ bytes\n",
      "None\n",
      "None\n"
     ]
    }
   ],
   "source": [
    "## printing the null values (Assigns a boolean value to indicate that whether it is null or not)\n",
    "print(data.isna())\n",
    "## condditional statements \n",
    "print(data[data[\"Riverside\"] == \"Sometown\"])\n",
    "## printing info about the dataframe\n",
    "print(data.info())\n",
    "## removing all the null values from the dataframe if present\n",
    "data_nonull = data.dropna(inplace = True)\n",
    "print(data_nonull)"
   ]
  },
  {
   "cell_type": "markdown",
   "metadata": {},
   "source": [
    "In this section we show the pandas scatter plt function which gives us a idea about distribution of *weights* and *heights* of persons. The botton plot represents the variation of *heights* depending on the index values."
   ]
  },
  {
   "cell_type": "code",
   "execution_count": 29,
   "metadata": {},
   "outputs": [
    {
     "data": {
      "image/png": "[encoded data removed]",
      "text/plain": [
       "<Figure size 432x288 with 1 Axes>"
      ]
     },
     "metadata": {
      "needs_background": "light"
     },
     "output_type": "display_data"
    }
   ],
   "source": [
    "data.plot.scatter(x = data.columns[0], y = data.columns[2]);\n",
    "data[data.columns[1]].plot();"
   ]
  },
  {
   "cell_type": "code",
   "execution_count": 52,
   "metadata": {},
   "outputs": [
    {
     "name": "stdout",
     "output_type": "stream",
     "text": [
      "   Index  Heights  Weights\n",
      "0      1    65.78   112.99\n",
      "1      2    71.52   136.49\n",
      "2      3    69.40   153.03\n",
      "3      4    68.22   142.34\n",
      "4      5    67.79   144.30\n",
      "   Index  Heights  Weights\n",
      "0      1    77.21   121.22\n",
      "1      2    71.52   136.49\n",
      "2      3    69.40   153.03\n",
      "3      4    68.22   142.34\n",
      "4      5    67.79   144.30\n",
      "   Index  Heights  Weights\n",
      "0      1    65.78   112.99\n",
      "     Index  Heights  Weights\n",
      "0        1    65.78   112.99\n",
      "1        2    71.52   136.49\n",
      "2        3    69.40   153.03\n",
      "3        4    68.22   142.34\n",
      "4        5    67.79   144.30\n",
      "..     ...      ...      ...\n",
      "195    196    65.80   120.84\n",
      "196    197    66.11   115.78\n",
      "197    198    68.24   128.30\n",
      "198    199    68.02   127.47\n",
      "199    200    71.39   127.88\n",
      "\n",
      "[200 rows x 3 columns]\n",
      "Index        1.00\n",
      "Heights     65.78\n",
      "Weights    112.99\n",
      "Name: 0, dtype: float64\n"
     ]
    }
   ],
   "source": [
    "## renaming the columns \n",
    "data.rename(columns = {data.columns[1] : \"Heights\", data.columns[2] : \"Weights\"}, inplace = True)\n",
    "print(data.head(5))\n",
    "## replacing the value of heights and weights of the first row with a random value \n",
    "data_replaced = data.replace([65.78, 112.99],[77.21, 121.22])\n",
    "print(data_replaced.head(5))\n",
    "\n",
    "# iloc function helps to locate a value, row, column of the dataframe by the use of indexes(0-based indexing)\n",
    "print(data.iloc[0:1,:])\n",
    "print(data.iloc[:,:]) # prints the entire dataframe\n",
    "print(data.loc[0]) # gets the first row of the dataframe (loc fucntion)"
   ]
  },
  {
   "cell_type": "markdown",
   "metadata": {},
   "source": [
    "This was enough to give a **headstart** to learning **Pandas** library in python which is one of the most demanded libraries and most commonly used library in **Data Analytics**, **Data Science**, **Machine Learning**.\n",
    "Feel free to explore the documentation from here \n",
    "\n",
    "Peace ✌️✌️"
   ]
  }
 ],
 "metadata": {
  "interpreter": {
   "hash": "81794d4967e6c3204c66dcd87b604927b115b27c00565d3d43f05ba2f3a2cb0d"
  },
  "kernelspec": {
   "display_name": "Python 3.9.5 64-bit",
   "language": "python",
   "name": "python3"
  },
  "language_info": {
   "codemirror_mode": {
    "name": "ipython",
    "version": 3
   },
   "file_extension": ".py",
   "mimetype": "text/x-python",
   "name": "python",
   "nbconvert_exporter": "python",
   "pygments_lexer": "ipython3",
   "version": "3.9.5"
  },
  "orig_nbformat": 4
 },
 "nbformat": 4,
 "nbformat_minor": 2
}
